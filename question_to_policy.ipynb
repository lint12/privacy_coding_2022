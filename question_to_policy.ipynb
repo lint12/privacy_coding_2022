{
 "cells": [
  {
   "cell_type": "code",
   "execution_count": 2,
   "id": "b7b88e05",
   "metadata": {},
   "outputs": [],
   "source": [
    "import psycopg2\n",
    "import pandas as pd"
   ]
  },
  {
   "cell_type": "code",
   "execution_count": 3,
   "id": "e0ef34fb",
   "metadata": {},
   "outputs": [],
   "source": [
    "# Credentials\n",
    "DB_NAME = 'documentcoder'\n",
    "DB_USER = 'postgres'\n",
    "DB_PASS = 'save'"
   ]
  },
  {
   "cell_type": "code",
   "execution_count": 4,
   "id": "b35ee254",
   "metadata": {},
   "outputs": [],
   "source": [
    "# CONNECTION IS ESTABLISHED IF NOTHING RETURNS \n",
    "conn = psycopg2.connect(dbname=DB_NAME, user=DB_USER, password=DB_PASS)"
   ]
  },
  {
   "cell_type": "code",
   "execution_count": 5,
   "id": "d8d30c0d",
   "metadata": {},
   "outputs": [],
   "source": [
    "# Create Cursor to execute statements\n",
    "cur = conn.cursor()"
   ]
  },
  {
   "cell_type": "code",
   "execution_count": 10,
   "id": "8e667b78",
   "metadata": {},
   "outputs": [
    {
     "data": {
      "text/plain": [
       "['v72.1_2020.1',\n",
       " 'v72.2_2020.1',\n",
       " 'v73_2020.1',\n",
       " 'v74_2020.1',\n",
       " 'v75_2020.1',\n",
       " 'v76_2020.1',\n",
       " 'v77_2020',\n",
       " 'v78_2020.1',\n",
       " 'v72_2020.1',\n",
       " 'v80_2020.1',\n",
       " 'v3_2020',\n",
       " 'v10.1_2020',\n",
       " 'v10.2_2020.1',\n",
       " 'v11.1_2020',\n",
       " 'v12_2020.1',\n",
       " 'v13_2020.1',\n",
       " 'v17_2020',\n",
       " 'v18_2020',\n",
       " 'v19_2020',\n",
       " 'v32_2020',\n",
       " 'v35_2020',\n",
       " 'v36_2020',\n",
       " 'v48_2020',\n",
       " 'v20_2020.1',\n",
       " 'v21_2020.1',\n",
       " 'v22_2020.1',\n",
       " 'v27_2020.1',\n",
       " 'v28_2020',\n",
       " 'v29_2020',\n",
       " 'v31_2020',\n",
       " 'v37_2020',\n",
       " 'v38_2020.1',\n",
       " 'v37.2_2020.1',\n",
       " 'v39_2020',\n",
       " 'v40_2020.1',\n",
       " 'v47_2020.1',\n",
       " 'v49_2020',\n",
       " 'v51_2020',\n",
       " 'v41_2020',\n",
       " 'v42_2020',\n",
       " 'v43_2020',\n",
       " 'v44_2020',\n",
       " 'v45_2020',\n",
       " 'v46_2020',\n",
       " 'v53_2020',\n",
       " 'v54_2020',\n",
       " 'v52_2020',\n",
       " 'v55_2020',\n",
       " 'v56_2020',\n",
       " 'v57_2020',\n",
       " 'v58_2020',\n",
       " 'v59_2020',\n",
       " 'v60_2020',\n",
       " 'v61_2020',\n",
       " 'v62_2020.1',\n",
       " 'v63_2020',\n",
       " 'v64_2020',\n",
       " 'PP_in_TOU',\n",
       " 'v71_2020.1',\n",
       " 'v80.2_2020.1',\n",
       " 'v80.3_2020.1',\n",
       " 'v81_2020',\n",
       " 'v82_2020',\n",
       " 'v83_2020',\n",
       " 'v2_2020_txt',\n",
       " 'v0_2020.1',\n",
       " 'v1_2020',\n",
       " 'v2.1_2020',\n",
       " 'v2.2_2020',\n",
       " 'v2.3_2020.1',\n",
       " 'v2.4_2020.1']"
      ]
     },
     "execution_count": 10,
     "metadata": {},
     "output_type": "execute_result"
    }
   ],
   "source": [
    "cur.execute(\"\"\"\n",
    "            SELECT jsonb_path_query_array(categories, '$.questions[*].id')\n",
    "            FROM api_coding;\n",
    "            \"\"\")\n",
    "\n",
    "q_ids = cur.fetchall()[0][0]\n",
    "q_ids"
   ]
  },
  {
   "cell_type": "code",
   "execution_count": null,
   "id": "021b991d",
   "metadata": {},
   "outputs": [],
   "source": [
    "# cur.close()\n",
    "# conn.close()"
   ]
  }
 ],
 "metadata": {
  "kernelspec": {
   "display_name": "Python 3",
   "language": "python",
   "name": "python3"
  },
  "language_info": {
   "codemirror_mode": {
    "name": "ipython",
    "version": 3
   },
   "file_extension": ".py",
   "mimetype": "text/x-python",
   "name": "python",
   "nbconvert_exporter": "python",
   "pygments_lexer": "ipython3",
   "version": "3.7.6"
  }
 },
 "nbformat": 4,
 "nbformat_minor": 5
}
