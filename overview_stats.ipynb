{
 "cells": [
  {
   "cell_type": "code",
   "execution_count": 2,
   "id": "ee45c248",
   "metadata": {},
   "outputs": [],
   "source": [
    "import psycopg2\n",
    "import numpy as np\n",
    "import pandas as pd\n",
    "import matplotlib.pyplot as plt\n",
    "from collections import defaultdict"
   ]
  },
  {
   "cell_type": "code",
   "execution_count": 3,
   "id": "4dde066e",
   "metadata": {},
   "outputs": [],
   "source": [
    "# Credentials\n",
    "DB_NAME = 'documentcoder'\n",
    "DB_USER = 'postgres'\n",
    "DB_PASS = 'save'"
   ]
  },
  {
   "cell_type": "code",
   "execution_count": 4,
   "id": "0e36cb55",
   "metadata": {},
   "outputs": [],
   "source": [
    "# CONNECTION IS ESTABLISHED IF NOTHING RETURNS \n",
    "conn = psycopg2.connect(dbname=DB_NAME, user=DB_USER, password=DB_PASS)"
   ]
  },
  {
   "cell_type": "code",
   "execution_count": 5,
   "id": "f6f6d998",
   "metadata": {},
   "outputs": [],
   "source": [
    "# Create Cursor to execute statements\n",
    "cur = conn.cursor()"
   ]
  },
  {
   "cell_type": "code",
   "execution_count": 6,
   "id": "47070eb4",
   "metadata": {},
   "outputs": [
    {
     "name": "stdout",
     "output_type": "stream",
     "text": [
      "628\n"
     ]
    }
   ],
   "source": [
    "# how many companies are in the dataset \n",
    "cur.execute('SELECT COUNT(*) FROM (SELECT DISTINCT id FROM api_policy) AS unique_policy_id_cnt;')\n",
    "company_cnt = cur.fetchall()[0][0]\n",
    "print(company_cnt)"
   ]
  },
  {
   "cell_type": "code",
   "execution_count": 7,
   "id": "e3451146",
   "metadata": {},
   "outputs": [
    {
     "name": "stdout",
     "output_type": "stream",
     "text": [
      "18\n"
     ]
    }
   ],
   "source": [
    "# how many companies have its policies digested (aka policy instances)\n",
    "cur.execute(\"\"\"\n",
    "            SELECT COUNT(*) \n",
    "            FROM (SELECT DISTINCT policy_id FROM api_policyinstance) AS unique_cnt;\n",
    "            \"\"\")\n",
    "policy_cnt = cur.fetchall()[0][0]\n",
    "print(policy_cnt)"
   ]
  },
  {
   "cell_type": "code",
   "execution_count": 10,
   "id": "5f4f88b6",
   "metadata": {},
   "outputs": [
    {
     "name": "stdout",
     "output_type": "stream",
     "text": [
      "25\n"
     ]
    }
   ],
   "source": [
    "# how many coding instances are there\n",
    "cur.execute(\"\"\"\n",
    "            SELECT id as coding_instance_id, COUNT(*)\n",
    "            FROM (SELECT id, jsonb_object_keys(coding_values)\n",
    "                  FROM api_codinginstance\n",
    "                  WHERE coder_email != 'davidbstein@gmail.com') AS key_cnts\n",
    "            GROUP BY key_cnts.id\n",
    "            HAVING COUNT(*) != 1;\n",
    "            \"\"\")\n",
    "# the result is under the assumption that all codings \n",
    "# even a \"bad one\" ie has categoryHighlights in the coding_values object \n",
    "# => coding instances that have only a count of 1 is bad data \n",
    "coding_instance_cnt = len(cur.fetchall())\n",
    "print(coding_instance_cnt)"
   ]
  },
  {
   "cell_type": "code",
   "execution_count": 35,
   "id": "740dc69e",
   "metadata": {},
   "outputs": [
    {
     "name": "stdout",
     "output_type": "stream",
     "text": [
      "9\n"
     ]
    }
   ],
   "source": [
    "# how many policy instances with two coding instances or more are there\n",
    "\n",
    "# SELECT COUNT(*)\n",
    "# FROM (SELECT policy_instance_id, count(DISTINCT coder_email) AS coder_cnt\n",
    "#     FROM api_codinginstance \n",
    "#     WHERE coder_email != 'davidbstein@gmail.com'\n",
    "#     GROUP BY policy_instance_id) AS sub\n",
    "# WHERE sub.coder_cnt > 1;\n",
    "\n",
    "cur.execute(\"\"\"\n",
    "            SELECT id, policy_instance_id, coding_values, coder_email\n",
    "            FROM api_codinginstance\n",
    "            WHERE coder_email != 'davidbstein@gmail.com'; \n",
    "            \"\"\")\n",
    "query_res = cur.fetchall()\n",
    "#print(query_res)\n",
    "\n",
    "agg_dict = {}\n",
    "for record in query_res: \n",
    "    encoding_len = len(record[2])\n",
    "    if (encoding_len > 1):\n",
    "        if record[1] not in agg_dict:\n",
    "            agg_dict[record[1]] = 0\n",
    "            \n",
    "        agg_dict[record[1]] += 1\n",
    "        \n",
    "#print(agg_dict)\n",
    "filtered_dict = {k:v for (k,v) in agg_dict.items() if v > 1}\n",
    "\n",
    "mult_coding_inst_cnt = len(filtered_dict)\n",
    "print(mult_coding_inst_cnt)"
   ]
  },
  {
   "cell_type": "code",
   "execution_count": 40,
   "id": "c956b9e2",
   "metadata": {},
   "outputs": [
    {
     "name": "stdout",
     "output_type": "stream",
     "text": [
      "1\n"
     ]
    }
   ],
   "source": [
    "# how many policy instances with two coding instances or more AND corrections by FMW are there\n",
    "\n",
    "# SELECT api_codinginstance.policy_instance_id, \n",
    "# COUNT(DISTINCT coder_email) as coder_cnt\n",
    "# FROM api_codinginstance\n",
    "# INNER JOIN\n",
    "#     (SELECT policy_instance_id\n",
    "#     FROM api_codinginstance\n",
    "#     WHERE coder_email = 'florencia.m.wurgler@gmail.com') AS fmw_ids\n",
    "# ON fmw_ids.policy_instance_id = api_codinginstance.policy_instance_id\n",
    "# WHERE coder_email != 'davidbstein@gmail.com'\n",
    "# GROUP BY api_codinginstance.policy_instance_id\n",
    "# HAVING COUNT(DISTINCT coder_email) > 2;\n",
    "\n",
    "cur.execute(\"\"\"\n",
    "            SELECT id, api_codinginstance.policy_instance_id, coder_email, coding_values\n",
    "            FROM api_codinginstance\n",
    "            INNER JOIN\n",
    "                (SELECT policy_instance_id\n",
    "                FROM api_codinginstance\n",
    "                WHERE coder_email = 'florencia.m.wurgler@gmail.com') AS fmw_ids\n",
    "            ON fmw_ids.policy_instance_id = api_codinginstance.policy_instance_id\n",
    "            WHERE coder_email != 'davidbstein@gmail.com';\n",
    "            \"\"\")\n",
    "\n",
    "query_res = cur.fetchall()\n",
    "#print(query_res)\n",
    "\n",
    "agg_dict = {}\n",
    "for record in query_res: \n",
    "    encoding_len = len(record[3])\n",
    "    # checks for codings where theres actual content and not just categoryHighlights = {}\n",
    "    if (encoding_len > 1):\n",
    "        if record[1] not in agg_dict:\n",
    "            agg_dict[record[1]] = 0\n",
    "            \n",
    "        agg_dict[record[1]] += 1\n",
    "        \n",
    "#print(agg_dict)\n",
    "filtered_dict = {k:v for (k,v) in agg_dict.items() if v > 2}\n",
    "\n",
    "mult_coding_inst_wFMW_cnt = len(filtered_dict)\n",
    "print(mult_coding_inst_wFMW_cnt)"
   ]
  },
  {
   "cell_type": "code",
   "execution_count": 64,
   "id": "ba1bff98",
   "metadata": {},
   "outputs": [
    {
     "name": "stdout",
     "output_type": "stream",
     "text": [
      "['v72.1_2020.1', 'v72.2_2020.1', 'v73_2020.1', 'v74_2020.1', 'v75_2020.1', 'v76_2020.1', 'v77_2020', 'v78_2020.1', 'v72_2020.1', 'v80_2020.1', 'v3_2020', 'v10.1_2020', 'v10.2_2020.1', 'v11.1_2020', 'v12_2020.1', 'v13_2020.1', 'v17_2020', 'v18_2020', 'v19_2020', 'v32_2020', 'v35_2020', 'v36_2020', 'v48_2020', 'v20_2020.1', 'v21_2020.1', 'v22_2020.1', 'v27_2020.1', 'v28_2020', 'v29_2020', 'v31_2020', 'v37_2020', 'v38_2020.1', 'v37.2_2020.1', 'v39_2020', 'v40_2020.1', 'v47_2020.1', 'v49_2020', 'v51_2020', 'v41_2020', 'v42_2020', 'v43_2020', 'v44_2020', 'v45_2020', 'v46_2020', 'v53_2020', 'v54_2020', 'v52_2020', 'v55_2020', 'v56_2020', 'v57_2020', 'v58_2020', 'v59_2020', 'v60_2020', 'v61_2020', 'v62_2020.1', 'v63_2020', 'v64_2020', 'PP_in_TOU', 'v71_2020.1', 'v80.2_2020.1', 'v80.3_2020.1', 'v81_2020', 'v82_2020', 'v83_2020', 'v2_2020_txt', 'v0_2020.1', 'v1_2020', 'v2.1_2020', 'v2.2_2020', 'v2.3_2020.1', 'v2.4_2020.1']\n"
     ]
    }
   ],
   "source": [
    "cur.execute(\"\"\"\n",
    "            SELECT x->'questions'\n",
    "            FROM api_coding, jsonb_array_elements(categories) as x\"\"\")\n",
    "\n",
    "query_res = cur.fetchall()\n",
    "#print(query_res)\n",
    "\n",
    "q_ids = []\n",
    "\n",
    "for record in query_res: \n",
    "    for q in record[0]:\n",
    "        q_ids.append(q['id'])\n",
    "\n",
    "print(q_ids)"
   ]
  },
  {
   "cell_type": "code",
   "execution_count": 78,
   "id": "cffddccd",
   "metadata": {},
   "outputs": [
    {
     "name": "stdout",
     "output_type": "stream",
     "text": [
      "[{'policy_instance_id': 1, 'coder_email': 'gfc9001@nyu.edu', 'num_encodings': 66, 'complete_encoding': False}, {'policy_instance_id': 1, 'coder_email': 'kat9234@nyu.edu', 'num_encodings': 65, 'complete_encoding': False}, {'policy_instance_id': 1, 'coder_email': 'mc8562@nyu.edu', 'num_encodings': 35, 'complete_encoding': False}, {'policy_instance_id': 1, 'coder_email': 'florencia.m.wurgler@gmail.com', 'num_encodings': 62, 'complete_encoding': False}, {'policy_instance_id': 1, 'coder_email': 'dbs438@nyu.edu', 'num_encodings': 7, 'complete_encoding': False}, {'policy_instance_id': 10, 'coder_email': 'mc8562@nyu.edu', 'num_encodings': 65, 'complete_encoding': False}, {'policy_instance_id': 10, 'coder_email': 'gfc9001@nyu.edu', 'num_encodings': 65, 'complete_encoding': False}, {'policy_instance_id': 12, 'coder_email': 'gfc9001@nyu.edu', 'num_encodings': 65, 'complete_encoding': False}, {'policy_instance_id': 11, 'coder_email': 'kat9234@nyu.edu', 'num_encodings': 65, 'complete_encoding': False}, {'policy_instance_id': 5, 'coder_email': 'gfc9001@nyu.edu', 'num_encodings': 65, 'complete_encoding': False}, {'policy_instance_id': 3, 'coder_email': 'gfc9001@nyu.edu', 'num_encodings': 65, 'complete_encoding': False}, {'policy_instance_id': 5, 'coder_email': 'dbs438@nyu.edu', 'num_encodings': 1, 'complete_encoding': False}, {'policy_instance_id': 12, 'coder_email': 'kat9234@nyu.edu', 'num_encodings': 65, 'complete_encoding': False}, {'policy_instance_id': 5, 'coder_email': 'kat9234@nyu.edu', 'num_encodings': 65, 'complete_encoding': False}, {'policy_instance_id': 11, 'coder_email': 'gfc9001@nyu.edu', 'num_encodings': 1, 'complete_encoding': False}, {'policy_instance_id': 11, 'coder_email': 'mc8562@nyu.edu', 'num_encodings': 65, 'complete_encoding': False}, {'policy_instance_id': 3, 'coder_email': 'mc8562@nyu.edu', 'num_encodings': 25, 'complete_encoding': False}, {'policy_instance_id': 8, 'coder_email': 'gfc9001@nyu.edu', 'num_encodings': 65, 'complete_encoding': False}, {'policy_instance_id': 13, 'coder_email': 'gfc9001@nyu.edu', 'num_encodings': 65, 'complete_encoding': False}, {'policy_instance_id': 14, 'coder_email': 'gfc9001@nyu.edu', 'num_encodings': 65, 'complete_encoding': False}, {'policy_instance_id': 4, 'coder_email': 'gfc9001@nyu.edu', 'num_encodings': 65, 'complete_encoding': False}, {'policy_instance_id': 7, 'coder_email': 'gfc9001@nyu.edu', 'num_encodings': 65, 'complete_encoding': False}, {'policy_instance_id': 9, 'coder_email': 'gfc9001@nyu.edu', 'num_encodings': 65, 'complete_encoding': False}, {'policy_instance_id': 6, 'coder_email': 'gfc9001@nyu.edu', 'num_encodings': 65, 'complete_encoding': False}, {'policy_instance_id': 3, 'coder_email': 'florencia.m.wurgler@gmail.com', 'num_encodings': 1, 'complete_encoding': False}, {'policy_instance_id': 12, 'coder_email': 'florencia.m.wurgler@gmail.com', 'num_encodings': 1, 'complete_encoding': False}, {'policy_instance_id': 8, 'coder_email': 'florencia.m.wurgler@gmail.com', 'num_encodings': 1, 'complete_encoding': False}, {'policy_instance_id': 8, 'coder_email': 'mc8562@nyu.edu', 'num_encodings': 65, 'complete_encoding': False}, {'policy_instance_id': 13, 'coder_email': 'mc8562@nyu.edu', 'num_encodings': 65, 'complete_encoding': False}, {'policy_instance_id': 6, 'coder_email': 'kat9234@nyu.edu', 'num_encodings': 65, 'complete_encoding': False}]\n"
     ]
    }
   ],
   "source": [
    "cur.execute(\"\"\"\n",
    "            SELECT id, api_codinginstance.policy_instance_id, coder_email, coding_values\n",
    "            FROM api_codinginstance\n",
    "            WHERE coder_email != 'davidbstein@gmail.com';\n",
    "            \"\"\")\n",
    "\n",
    "query_res = cur.fetchall()\n",
    "coding_instances = []\n",
    "\n",
    "for record in query_res: \n",
    "    incomplete_flag = False\n",
    "    coded_q_ids = record[3].keys()\n",
    "    #print(coded_q_ids)\n",
    "        \n",
    "    for q_id in q_ids:\n",
    "        if q_id not in coded_q_ids:\n",
    "            #print('incomplete')\n",
    "            incomplete_flag = True\n",
    "    #print('-------------')\n",
    "        \n",
    "    temp = {'policy_instance_id': record[1],\n",
    "            'coder_email': record[2],\n",
    "            'num_encodings': len(record[3]),\n",
    "            'complete_encoding': False if incomplete_flag else True}\n",
    "    \n",
    "    coding_instances.append(temp)\n",
    "    \n",
    "print(coding_instances)"
   ]
  },
  {
   "cell_type": "code",
   "execution_count": null,
   "id": "165633ea",
   "metadata": {},
   "outputs": [],
   "source": []
  }
 ],
 "metadata": {
  "kernelspec": {
   "display_name": "Python 3",
   "language": "python",
   "name": "python3"
  },
  "language_info": {
   "codemirror_mode": {
    "name": "ipython",
    "version": 3
   },
   "file_extension": ".py",
   "mimetype": "text/x-python",
   "name": "python",
   "nbconvert_exporter": "python",
   "pygments_lexer": "ipython3",
   "version": "3.7.6"
  }
 },
 "nbformat": 4,
 "nbformat_minor": 5
}
