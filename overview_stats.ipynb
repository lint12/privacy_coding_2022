{
 "cells": [
  {
   "cell_type": "code",
   "execution_count": 1,
   "id": "ee45c248",
   "metadata": {},
   "outputs": [],
   "source": [
    "import psycopg2\n",
    "import numpy as np\n",
    "import pandas as pd\n",
    "import matplotlib.pyplot as plt\n",
    "from collections import defaultdict"
   ]
  },
  {
   "cell_type": "code",
   "execution_count": 2,
   "id": "4dde066e",
   "metadata": {},
   "outputs": [],
   "source": [
    "# Credentials\n",
    "DB_NAME = 'documentcoder'\n",
    "DB_USER = 'postgres'\n",
    "DB_PASS = 'save'"
   ]
  },
  {
   "cell_type": "code",
   "execution_count": 3,
   "id": "0e36cb55",
   "metadata": {},
   "outputs": [],
   "source": [
    "# CONNECTION IS ESTABLISHED IF NOTHING RETURNS \n",
    "conn = psycopg2.connect(dbname=DB_NAME, user=DB_USER, password=DB_PASS)"
   ]
  },
  {
   "cell_type": "code",
   "execution_count": 4,
   "id": "f6f6d998",
   "metadata": {},
   "outputs": [],
   "source": [
    "# Create Cursor to execute statements\n",
    "cur = conn.cursor()"
   ]
  },
  {
   "cell_type": "code",
   "execution_count": 5,
   "id": "47070eb4",
   "metadata": {},
   "outputs": [
    {
     "name": "stdout",
     "output_type": "stream",
     "text": [
      "628\n"
     ]
    }
   ],
   "source": [
    "# how many companies are in the dataset \n",
    "cur.execute('SELECT COUNT(*) FROM (SELECT DISTINCT id FROM api_policy) AS unique_policy_id_cnt;')\n",
    "company_cnt = cur.fetchall()[0][0]\n",
    "print(company_cnt)"
   ]
  },
  {
   "cell_type": "code",
   "execution_count": 6,
   "id": "e3451146",
   "metadata": {},
   "outputs": [
    {
     "name": "stdout",
     "output_type": "stream",
     "text": [
      "18\n"
     ]
    }
   ],
   "source": [
    "# how many companies have its policies digested (aka policy instances)\n",
    "cur.execute(\"\"\"\n",
    "            SELECT COUNT(*) \n",
    "            FROM (SELECT DISTINCT policy_id FROM api_policyinstance) AS unique_cnt;\n",
    "            \"\"\")\n",
    "policy_cnt = cur.fetchall()[0][0]\n",
    "print(policy_cnt)"
   ]
  },
  {
   "cell_type": "code",
   "execution_count": 7,
   "id": "5f4f88b6",
   "metadata": {},
   "outputs": [
    {
     "name": "stdout",
     "output_type": "stream",
     "text": [
      "25\n"
     ]
    }
   ],
   "source": [
    "# how many coding instances are there\n",
    "cur.execute(\"\"\"\n",
    "            SELECT id as coding_instance_id, COUNT(*)\n",
    "            FROM (SELECT id, jsonb_object_keys(coding_values)\n",
    "                  FROM api_codinginstance\n",
    "                  WHERE coder_email != 'davidbstein@gmail.com') AS key_cnts\n",
    "            GROUP BY key_cnts.id\n",
    "            HAVING COUNT(*) != 1;\n",
    "            \"\"\")\n",
    "# the result is under the assumption that all codings \n",
    "# even a \"bad one\" ie has categoryHighlights in the coding_values object \n",
    "# => coding instances that have only a count of 1 is bad data \n",
    "coding_instance_cnt = len(cur.fetchall())\n",
    "print(coding_instance_cnt)"
   ]
  },
  {
   "cell_type": "code",
   "execution_count": 8,
   "id": "740dc69e",
   "metadata": {},
   "outputs": [
    {
     "name": "stdout",
     "output_type": "stream",
     "text": [
      "9\n"
     ]
    }
   ],
   "source": [
    "# how many policy instances with two coding instances or more are there\n",
    "\n",
    "# SELECT COUNT(*)\n",
    "# FROM (SELECT policy_instance_id, count(DISTINCT coder_email) AS coder_cnt\n",
    "#     FROM api_codinginstance \n",
    "#     WHERE coder_email != 'davidbstein@gmail.com'\n",
    "#     GROUP BY policy_instance_id) AS sub\n",
    "# WHERE sub.coder_cnt > 1;\n",
    "\n",
    "cur.execute(\"\"\"\n",
    "            SELECT id, policy_instance_id, coding_values, coder_email\n",
    "            FROM api_codinginstance\n",
    "            WHERE coder_email != 'davidbstein@gmail.com'; \n",
    "            \"\"\")\n",
    "query_res = cur.fetchall()\n",
    "#print(query_res)\n",
    "\n",
    "agg_dict = {}\n",
    "for record in query_res: \n",
    "    encoding_len = len(record[2])\n",
    "    if (encoding_len > 1):\n",
    "        if record[1] not in agg_dict:\n",
    "            agg_dict[record[1]] = 0\n",
    "            \n",
    "        agg_dict[record[1]] += 1\n",
    "        \n",
    "#print(agg_dict)\n",
    "filtered_dict = {k:v for (k,v) in agg_dict.items() if v > 1}\n",
    "\n",
    "mult_coding_inst_cnt = len(filtered_dict)\n",
    "print(mult_coding_inst_cnt)"
   ]
  },
  {
   "cell_type": "code",
   "execution_count": 9,
   "id": "c956b9e2",
   "metadata": {},
   "outputs": [
    {
     "name": "stdout",
     "output_type": "stream",
     "text": [
      "1\n"
     ]
    }
   ],
   "source": [
    "# how many policy instances with two coding instances or more AND corrections by FMW are there\n",
    "\n",
    "# SELECT api_codinginstance.policy_instance_id, \n",
    "# COUNT(DISTINCT coder_email) as coder_cnt\n",
    "# FROM api_codinginstance\n",
    "# INNER JOIN\n",
    "#     (SELECT policy_instance_id\n",
    "#     FROM api_codinginstance\n",
    "#     WHERE coder_email = 'florencia.m.wurgler@gmail.com') AS fmw_ids\n",
    "# ON fmw_ids.policy_instance_id = api_codinginstance.policy_instance_id\n",
    "# WHERE coder_email != 'davidbstein@gmail.com'\n",
    "# GROUP BY api_codinginstance.policy_instance_id\n",
    "# HAVING COUNT(DISTINCT coder_email) > 2;\n",
    "\n",
    "cur.execute(\"\"\"\n",
    "            SELECT id, api_codinginstance.policy_instance_id, coder_email, coding_values\n",
    "            FROM api_codinginstance\n",
    "            INNER JOIN\n",
    "                (SELECT policy_instance_id\n",
    "                FROM api_codinginstance\n",
    "                WHERE coder_email = 'florencia.m.wurgler@gmail.com') AS fmw_ids\n",
    "            ON fmw_ids.policy_instance_id = api_codinginstance.policy_instance_id\n",
    "            WHERE coder_email != 'davidbstein@gmail.com';\n",
    "            \"\"\")\n",
    "\n",
    "query_res = cur.fetchall()\n",
    "#print(query_res)\n",
    "\n",
    "agg_dict = {}\n",
    "for record in query_res: \n",
    "    encoding_len = len(record[3])\n",
    "    # checks for codings where theres actual content and not just categoryHighlights = {}\n",
    "    if (encoding_len > 1):\n",
    "        if record[1] not in agg_dict:\n",
    "            agg_dict[record[1]] = 0\n",
    "            \n",
    "        agg_dict[record[1]] += 1\n",
    "        \n",
    "#print(agg_dict)\n",
    "filtered_dict = {k:v for (k,v) in agg_dict.items() if v > 2}\n",
    "\n",
    "mult_coding_inst_wFMW_cnt = len(filtered_dict)\n",
    "print(mult_coding_inst_wFMW_cnt)"
   ]
  },
  {
   "cell_type": "code",
   "execution_count": 10,
   "id": "ba1bff98",
   "metadata": {},
   "outputs": [
    {
     "name": "stdout",
     "output_type": "stream",
     "text": [
      "['v72.1_2020.1', 'v72.2_2020.1', 'v73_2020.1', 'v74_2020.1', 'v75_2020.1', 'v76_2020.1', 'v77_2020', 'v78_2020.1', 'v72_2020.1', 'v80_2020.1', 'v3_2020', 'v10.1_2020', 'v10.2_2020.1', 'v11.1_2020', 'v12_2020.1', 'v13_2020.1', 'v17_2020', 'v18_2020', 'v19_2020', 'v32_2020', 'v35_2020', 'v36_2020', 'v48_2020', 'v20_2020.1', 'v21_2020.1', 'v22_2020.1', 'v27_2020.1', 'v28_2020', 'v29_2020', 'v31_2020', 'v37_2020', 'v38_2020.1', 'v37.2_2020.1', 'v39_2020', 'v40_2020.1', 'v47_2020.1', 'v49_2020', 'v51_2020', 'v41_2020', 'v42_2020', 'v43_2020', 'v44_2020', 'v45_2020', 'v46_2020', 'v53_2020', 'v54_2020', 'v52_2020', 'v55_2020', 'v56_2020', 'v57_2020', 'v58_2020', 'v59_2020', 'v60_2020', 'v61_2020', 'v62_2020.1', 'v63_2020', 'v64_2020', 'PP_in_TOU', 'v71_2020.1', 'v80.2_2020.1', 'v80.3_2020.1', 'v81_2020', 'v82_2020', 'v83_2020', 'v2_2020_txt', 'v0_2020.1', 'v1_2020', 'v2.1_2020', 'v2.2_2020', 'v2.3_2020.1', 'v2.4_2020.1']\n"
     ]
    }
   ],
   "source": [
    "cur.execute(\"\"\"\n",
    "            SELECT x->'questions'\n",
    "            FROM api_coding, jsonb_array_elements(categories) as x\"\"\")\n",
    "\n",
    "query_res = cur.fetchall()\n",
    "#print(query_res)\n",
    "\n",
    "q_ids = []\n",
    "\n",
    "for record in query_res: \n",
    "    for q in record[0]:\n",
    "        q_ids.append(q['id'])\n",
    "\n",
    "print(q_ids)"
   ]
  },
  {
   "cell_type": "code",
   "execution_count": 40,
   "id": "cffddccd",
   "metadata": {},
   "outputs": [
    {
     "name": "stdout",
     "output_type": "stream",
     "text": [
      "{1: {'codings': [{'coding_instance_id': 8, 'coder_email': 'gfc9001@nyu.edu', 'num_encodings': 66, 'complete_encoding': False}, {'coding_instance_id': 10, 'coder_email': 'kat9234@nyu.edu', 'num_encodings': 65, 'complete_encoding': False}, {'coding_instance_id': 11, 'coder_email': 'mc8562@nyu.edu', 'num_encodings': 35, 'complete_encoding': False}, {'coding_instance_id': 13, 'coder_email': 'florencia.m.wurgler@gmail.com', 'num_encodings': 62, 'complete_encoding': False}, {'coding_instance_id': 15, 'coder_email': 'dbs438@nyu.edu', 'num_encodings': 7, 'complete_encoding': False}], 'total_num_encodings': 5, 'num_completed_encodings': 0}, 10: {'codings': [{'coding_instance_id': 17, 'coder_email': 'mc8562@nyu.edu', 'num_encodings': 65, 'complete_encoding': False}, {'coding_instance_id': 18, 'coder_email': 'gfc9001@nyu.edu', 'num_encodings': 65, 'complete_encoding': False}], 'total_num_encodings': 2, 'num_completed_encodings': 0}, 12: {'codings': [{'coding_instance_id': 19, 'coder_email': 'gfc9001@nyu.edu', 'num_encodings': 65, 'complete_encoding': False}, {'coding_instance_id': 24, 'coder_email': 'kat9234@nyu.edu', 'num_encodings': 65, 'complete_encoding': False}, {'coding_instance_id': 37, 'coder_email': 'florencia.m.wurgler@gmail.com', 'num_encodings': 1, 'complete_encoding': False}], 'total_num_encodings': 3, 'num_completed_encodings': 0}, 11: {'codings': [{'coding_instance_id': 20, 'coder_email': 'kat9234@nyu.edu', 'num_encodings': 65, 'complete_encoding': False}, {'coding_instance_id': 26, 'coder_email': 'gfc9001@nyu.edu', 'num_encodings': 1, 'complete_encoding': False}, {'coding_instance_id': 27, 'coder_email': 'mc8562@nyu.edu', 'num_encodings': 65, 'complete_encoding': False}], 'total_num_encodings': 3, 'num_completed_encodings': 0}, 5: {'codings': [{'coding_instance_id': 21, 'coder_email': 'gfc9001@nyu.edu', 'num_encodings': 65, 'complete_encoding': False}, {'coding_instance_id': 23, 'coder_email': 'dbs438@nyu.edu', 'num_encodings': 1, 'complete_encoding': False}, {'coding_instance_id': 25, 'coder_email': 'kat9234@nyu.edu', 'num_encodings': 65, 'complete_encoding': False}], 'total_num_encodings': 3, 'num_completed_encodings': 0}, 3: {'codings': [{'coding_instance_id': 22, 'coder_email': 'gfc9001@nyu.edu', 'num_encodings': 65, 'complete_encoding': False}, {'coding_instance_id': 28, 'coder_email': 'mc8562@nyu.edu', 'num_encodings': 25, 'complete_encoding': False}, {'coding_instance_id': 36, 'coder_email': 'florencia.m.wurgler@gmail.com', 'num_encodings': 1, 'complete_encoding': False}], 'total_num_encodings': 3, 'num_completed_encodings': 0}, 8: {'codings': [{'coding_instance_id': 29, 'coder_email': 'gfc9001@nyu.edu', 'num_encodings': 65, 'complete_encoding': False}, {'coding_instance_id': 39, 'coder_email': 'florencia.m.wurgler@gmail.com', 'num_encodings': 1, 'complete_encoding': False}, {'coding_instance_id': 40, 'coder_email': 'mc8562@nyu.edu', 'num_encodings': 65, 'complete_encoding': False}], 'total_num_encodings': 3, 'num_completed_encodings': 0}, 13: {'codings': [{'coding_instance_id': 30, 'coder_email': 'gfc9001@nyu.edu', 'num_encodings': 65, 'complete_encoding': False}, {'coding_instance_id': 41, 'coder_email': 'mc8562@nyu.edu', 'num_encodings': 65, 'complete_encoding': False}], 'total_num_encodings': 2, 'num_completed_encodings': 0}, 14: {'codings': [{'coding_instance_id': 31, 'coder_email': 'gfc9001@nyu.edu', 'num_encodings': 65, 'complete_encoding': False}], 'total_num_encodings': 1, 'num_completed_encodings': 0}, 4: {'codings': [{'coding_instance_id': 32, 'coder_email': 'gfc9001@nyu.edu', 'num_encodings': 65, 'complete_encoding': False}], 'total_num_encodings': 1, 'num_completed_encodings': 0}, 7: {'codings': [{'coding_instance_id': 33, 'coder_email': 'gfc9001@nyu.edu', 'num_encodings': 65, 'complete_encoding': False}], 'total_num_encodings': 1, 'num_completed_encodings': 0}, 9: {'codings': [{'coding_instance_id': 34, 'coder_email': 'gfc9001@nyu.edu', 'num_encodings': 65, 'complete_encoding': False}], 'total_num_encodings': 1, 'num_completed_encodings': 0}, 6: {'codings': [{'coding_instance_id': 35, 'coder_email': 'gfc9001@nyu.edu', 'num_encodings': 65, 'complete_encoding': False}, {'coding_instance_id': 42, 'coder_email': 'kat9234@nyu.edu', 'num_encodings': 65, 'complete_encoding': False}], 'total_num_encodings': 2, 'num_completed_encodings': 0}}\n"
     ]
    }
   ],
   "source": [
    "# creating policy based stats \n",
    "cur.execute(\"\"\"\n",
    "            SELECT id, api_codinginstance.policy_instance_id, coder_email, coding_values\n",
    "            FROM api_codinginstance\n",
    "            WHERE coder_email != 'davidbstein@gmail.com';\n",
    "            \"\"\")\n",
    "\n",
    "query_res = cur.fetchall()\n",
    "policy_instances = {}\n",
    "\n",
    "for record in query_res: \n",
    "    incomplete_flag = False\n",
    "    coded_q_ids = record[3].keys()\n",
    "    #print(coded_q_ids)\n",
    "        \n",
    "    for q_id in q_ids:\n",
    "        if q_id not in coded_q_ids:\n",
    "            #print('incomplete')\n",
    "            incomplete_flag = True\n",
    "    #print('-------------')\n",
    "        \n",
    "    temp = {'coding_instance_id': record[0],\n",
    "            'coder_email': record[2],\n",
    "            'num_encodings': len(record[3]),\n",
    "            'complete_encoding': False if incomplete_flag else True}\n",
    "    \n",
    "    if record[1] not in policy_instances:\n",
    "        policy_instances[record[1]] = {'codings': [], 'total_num_encodings': 0, 'num_completed_encodings': 0}\n",
    "    \n",
    "    policy_instances[record[1]]['codings'].append(temp)\n",
    "\n",
    "\n",
    "total_num = []\n",
    "num_complete = []\n",
    "# policy_instance_id = key here\n",
    "for key in policy_instances: \n",
    "    policy_instances[key]['total_num_encodings'] = len(policy_instances[key]['codings'])\n",
    "    total_num.append(policy_instances[key]['total_num_encodings'])\n",
    "    \n",
    "    cnt = 0\n",
    "    for coding in policy_instances[key]['codings']:\n",
    "        if coding['complete_encoding'] == True:\n",
    "            cnt += 1\n",
    "    \n",
    "    policy_instances[key]['num_completed_encodings'] = cnt    \n",
    "    num_complete.append(policy_instances[key]['num_completed_encodings'])\n",
    "\n",
    "print(policy_instances)"
   ]
  },
  {
   "cell_type": "code",
   "execution_count": 49,
   "id": "165633ea",
   "metadata": {},
   "outputs": [],
   "source": [
    "df = pd.DataFrame(data={'policy_instance_id': policy_instances.keys(), 'total_num_encodings': total_num, \n",
    "                        'num_completed_encodings': num_complete})"
   ]
  },
  {
   "cell_type": "code",
   "execution_count": 51,
   "id": "5e12c6d4",
   "metadata": {},
   "outputs": [
    {
     "data": {
      "text/html": [
       "<div>\n",
       "<style scoped>\n",
       "    .dataframe tbody tr th:only-of-type {\n",
       "        vertical-align: middle;\n",
       "    }\n",
       "\n",
       "    .dataframe tbody tr th {\n",
       "        vertical-align: top;\n",
       "    }\n",
       "\n",
       "    .dataframe thead th {\n",
       "        text-align: right;\n",
       "    }\n",
       "</style>\n",
       "<table border=\"1\" class=\"dataframe\">\n",
       "  <thead>\n",
       "    <tr style=\"text-align: right;\">\n",
       "      <th></th>\n",
       "      <th>policy_instance_id</th>\n",
       "      <th>total_num_encodings</th>\n",
       "      <th>num_completed_encodings</th>\n",
       "    </tr>\n",
       "  </thead>\n",
       "  <tbody>\n",
       "    <tr>\n",
       "      <th>0</th>\n",
       "      <td>1</td>\n",
       "      <td>5</td>\n",
       "      <td>0</td>\n",
       "    </tr>\n",
       "    <tr>\n",
       "      <th>1</th>\n",
       "      <td>10</td>\n",
       "      <td>2</td>\n",
       "      <td>0</td>\n",
       "    </tr>\n",
       "    <tr>\n",
       "      <th>2</th>\n",
       "      <td>12</td>\n",
       "      <td>3</td>\n",
       "      <td>0</td>\n",
       "    </tr>\n",
       "    <tr>\n",
       "      <th>3</th>\n",
       "      <td>11</td>\n",
       "      <td>3</td>\n",
       "      <td>0</td>\n",
       "    </tr>\n",
       "    <tr>\n",
       "      <th>4</th>\n",
       "      <td>5</td>\n",
       "      <td>3</td>\n",
       "      <td>0</td>\n",
       "    </tr>\n",
       "    <tr>\n",
       "      <th>5</th>\n",
       "      <td>3</td>\n",
       "      <td>3</td>\n",
       "      <td>0</td>\n",
       "    </tr>\n",
       "    <tr>\n",
       "      <th>6</th>\n",
       "      <td>8</td>\n",
       "      <td>3</td>\n",
       "      <td>0</td>\n",
       "    </tr>\n",
       "    <tr>\n",
       "      <th>7</th>\n",
       "      <td>13</td>\n",
       "      <td>2</td>\n",
       "      <td>0</td>\n",
       "    </tr>\n",
       "    <tr>\n",
       "      <th>8</th>\n",
       "      <td>14</td>\n",
       "      <td>1</td>\n",
       "      <td>0</td>\n",
       "    </tr>\n",
       "    <tr>\n",
       "      <th>9</th>\n",
       "      <td>4</td>\n",
       "      <td>1</td>\n",
       "      <td>0</td>\n",
       "    </tr>\n",
       "    <tr>\n",
       "      <th>10</th>\n",
       "      <td>7</td>\n",
       "      <td>1</td>\n",
       "      <td>0</td>\n",
       "    </tr>\n",
       "    <tr>\n",
       "      <th>11</th>\n",
       "      <td>9</td>\n",
       "      <td>1</td>\n",
       "      <td>0</td>\n",
       "    </tr>\n",
       "    <tr>\n",
       "      <th>12</th>\n",
       "      <td>6</td>\n",
       "      <td>2</td>\n",
       "      <td>0</td>\n",
       "    </tr>\n",
       "  </tbody>\n",
       "</table>\n",
       "</div>"
      ],
      "text/plain": [
       "    policy_instance_id  total_num_encodings  num_completed_encodings\n",
       "0                    1                    5                        0\n",
       "1                   10                    2                        0\n",
       "2                   12                    3                        0\n",
       "3                   11                    3                        0\n",
       "4                    5                    3                        0\n",
       "5                    3                    3                        0\n",
       "6                    8                    3                        0\n",
       "7                   13                    2                        0\n",
       "8                   14                    1                        0\n",
       "9                    4                    1                        0\n",
       "10                   7                    1                        0\n",
       "11                   9                    1                        0\n",
       "12                   6                    2                        0"
      ]
     },
     "execution_count": 51,
     "metadata": {},
     "output_type": "execute_result"
    }
   ],
   "source": [
    "df"
   ]
  },
  {
   "cell_type": "code",
   "execution_count": null,
   "id": "8ddb006d",
   "metadata": {},
   "outputs": [],
   "source": []
  }
 ],
 "metadata": {
  "kernelspec": {
   "display_name": "Python 3",
   "language": "python",
   "name": "python3"
  },
  "language_info": {
   "codemirror_mode": {
    "name": "ipython",
    "version": 3
   },
   "file_extension": ".py",
   "mimetype": "text/x-python",
   "name": "python",
   "nbconvert_exporter": "python",
   "pygments_lexer": "ipython3",
   "version": "3.7.6"
  }
 },
 "nbformat": 4,
 "nbformat_minor": 5
}
