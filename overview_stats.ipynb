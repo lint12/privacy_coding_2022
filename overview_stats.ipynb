{
 "cells": [
  {
   "cell_type": "code",
   "execution_count": 1,
   "id": "bfa6db67",
   "metadata": {},
   "outputs": [],
   "source": [
    "import psycopg2\n",
    "import numpy as np\n",
    "import pandas as pd\n",
    "import matplotlib.pyplot as plt\n",
    "from collections import defaultdict"
   ]
  },
  {
   "cell_type": "code",
   "execution_count": 2,
   "id": "9c619f4a",
   "metadata": {},
   "outputs": [],
   "source": [
    "# Credentials\n",
    "DB_NAME = 'documentcoder'\n",
    "DB_USER = 'postgres'\n",
    "DB_PASS = 'save'"
   ]
  },
  {
   "cell_type": "code",
   "execution_count": 25,
   "id": "ee33b43f",
   "metadata": {},
   "outputs": [],
   "source": [
    "# CONNECTION IS ESTABLISHED IF NOTHING RETURNS \n",
    "conn = psycopg2.connect(dbname=DB_NAME, user=DB_USER, password=DB_PASS)"
   ]
  },
  {
   "cell_type": "code",
   "execution_count": 26,
   "id": "25a671bc",
   "metadata": {},
   "outputs": [],
   "source": [
    "# Create Cursor to execute statements\n",
    "cur = conn.cursor()"
   ]
  },
  {
   "cell_type": "code",
   "execution_count": 27,
   "id": "8a218347",
   "metadata": {},
   "outputs": [
    {
     "name": "stdout",
     "output_type": "stream",
     "text": [
      "628\n"
     ]
    }
   ],
   "source": [
    "# how many policies are in the dataset \n",
    "cur.execute('SELECT COUNT(*) FROM (SELECT DISTINCT id FROM api_policy) AS unique_policy_id_cnt;')\n",
    "policy_cnt = cur.fetchall()[0][0]\n",
    "print(policy_cnt)"
   ]
  },
  {
   "cell_type": "code",
   "execution_count": 31,
   "id": "ee878cb0",
   "metadata": {},
   "outputs": [
    {
     "name": "stdout",
     "output_type": "stream",
     "text": [
      "30\n"
     ]
    }
   ],
   "source": [
    "# how many coding instances\n",
    "cur.execute(\"\"\"\n",
    "            SELECT COUNT(*) \n",
    "            FROM (SELECT DISTINCT id FROM api_codinginstance\n",
    "                 WHERE coder_email != 'davidbstein@gmail.com') AS unique_codinginstance_cnt;\n",
    "            \"\"\")\n",
    "coding_instance_cnt = cur.fetchall()[0][0]\n",
    "print(coding_instance_cnt)"
   ]
  },
  {
   "cell_type": "code",
   "execution_count": 29,
   "id": "d0174617",
   "metadata": {},
   "outputs": [
    {
     "name": "stdout",
     "output_type": "stream",
     "text": [
      "9\n"
     ]
    }
   ],
   "source": [
    "# how many policies with two coding instances\n",
    "cur.execute(\"\"\"\n",
    "            SELECT COUNT(*)\n",
    "            FROM (SELECT policy_instance_id, count(DISTINCT coder_email) AS coder_cnt\n",
    "                FROM api_codinginstance \n",
    "                WHERE coder_email != 'davidbstein@gmail.com'\n",
    "                GROUP BY policy_instance_id) AS sub\n",
    "            WHERE sub.coder_cnt > 1;\n",
    "            \"\"\")\n",
    "cnt_policies_with_two_inst = cur.fetchall()[0][0]\n",
    "print(cnt_policies_with_two_inst)"
   ]
  },
  {
   "cell_type": "code",
   "execution_count": 30,
   "id": "611a137e",
   "metadata": {},
   "outputs": [
    {
     "name": "stdout",
     "output_type": "stream",
     "text": [
      "4\n"
     ]
    }
   ],
   "source": [
    "# how many policies with two coding instances AND corrections by FMW\n",
    "cur.execute(\"\"\"\n",
    "            SELECT api_codinginstance.policy_instance_id, \n",
    "            COUNT(DISTINCT coder_email) as coder_cnt\n",
    "            FROM api_codinginstance\n",
    "            INNER JOIN\n",
    "                (SELECT policy_instance_id\n",
    "                FROM api_codinginstance\n",
    "                WHERE coder_email = 'florencia.m.wurgler@gmail.com') AS fmw_ids\n",
    "            ON fmw_ids.policy_instance_id = api_codinginstance.policy_instance_id\n",
    "            WHERE coder_email != 'davidbstein@gmail.com'\n",
    "            GROUP BY api_codinginstance.policy_instance_id\n",
    "            HAVING COUNT(DISTINCT coder_email) > 2;\n",
    "            \"\"\")\n",
    "cnt_policies_with_two_inst_and_fmw = len(cur.fetchall())\n",
    "print(cnt_policies_with_two_inst_and_fmw)"
   ]
  },
  {
   "cell_type": "code",
   "execution_count": null,
   "id": "338e77a5",
   "metadata": {},
   "outputs": [],
   "source": []
  }
 ],
 "metadata": {
  "kernelspec": {
   "display_name": "Python 3",
   "language": "python",
   "name": "python3"
  },
  "language_info": {
   "codemirror_mode": {
    "name": "ipython",
    "version": 3
   },
   "file_extension": ".py",
   "mimetype": "text/x-python",
   "name": "python",
   "nbconvert_exporter": "python",
   "pygments_lexer": "ipython3",
   "version": "3.7.6"
  }
 },
 "nbformat": 4,
 "nbformat_minor": 5
}
